{
 "cells": [
  {
   "cell_type": "code",
   "execution_count": 22,
   "id": "d3f8e8ad-6a28-473a-991b-1e796b9b1d3f",
   "metadata": {},
   "outputs": [],
   "source": [
    "import numpy as np"
   ]
  },
  {
   "cell_type": "code",
   "execution_count": 2,
   "id": "279bbd0a-8829-49fe-9b57-76bee72055bc",
   "metadata": {},
   "outputs": [
    {
     "name": "stdout",
     "output_type": "stream",
     "text": [
      "<class 'array.array'>\n",
      "10\n",
      "20\n",
      "30\n",
      "40\n",
      "50\n"
     ]
    }
   ],
   "source": [
    "import array as arr\n",
    "x=arr.array('i',[10,20,30,40,50])\n",
    "print(type(x))\n",
    "for i in x:\n",
    "    print(i)"
   ]
  },
  {
   "cell_type": "code",
   "execution_count": 20,
   "id": "46b046b0-2229-4db1-b50c-d281f5ea4d17",
   "metadata": {},
   "outputs": [],
   "source": [
    "#import numpy as np\n",
    "#x=np.array([10,20,30,40,50])\n",
    "#def one(x):\n",
    " #   min_ele=np.min(x)\n",
    "  #  max_ele=np.max(x)\n",
    "   # return min_ele,max_ele\n",
    "#result=one(x)\n",
    "#print(result)"
   ]
  },
  {
   "cell_type": "code",
   "execution_count": 24,
   "id": "2a494589-9d02-47cc-a773-1eaca5ca6615",
   "metadata": {},
   "outputs": [
    {
     "data": {
      "text/plain": [
       "1"
      ]
     },
     "execution_count": 24,
     "metadata": {},
     "output_type": "execute_result"
    }
   ],
   "source": [
    "import array as arr\n",
    "x=arr.array('i',[2,0,15,55])\n",
    "type(x)\n",
    "x.index(0)"
   ]
  },
  {
   "cell_type": "code",
   "execution_count": null,
   "id": "81ca6107-9b18-45c7-80ce-c68fe4fcd93b",
   "metadata": {},
   "outputs": [],
   "source": [
    "#update"
   ]
  },
  {
   "cell_type": "code",
   "execution_count": 26,
   "id": "09d0f780-e511-4cda-9d0a-0493b6dc3d90",
   "metadata": {},
   "outputs": [
    {
     "name": "stdout",
     "output_type": "stream",
     "text": [
      "2\n",
      "10\n",
      "15\n",
      "55\n"
     ]
    }
   ],
   "source": [
    "x[1]=10\n",
    "for i in x:\n",
    "    print(i) "
   ]
  },
  {
   "cell_type": "code",
   "execution_count": 28,
   "id": "92b8b60c-0057-496e-8fda-ceebdbe1fcff",
   "metadata": {},
   "outputs": [],
   "source": [
    "#remove"
   ]
  },
  {
   "cell_type": "code",
   "execution_count": 30,
   "id": "1913032e-0e4f-4286-873a-3697e3de10e8",
   "metadata": {},
   "outputs": [
    {
     "name": "stdout",
     "output_type": "stream",
     "text": [
      "10\n",
      "15\n",
      "55\n"
     ]
    }
   ],
   "source": [
    "x.remove(2)\n",
    "for i in x:\n",
    "    print(i)"
   ]
  },
  {
   "cell_type": "code",
   "execution_count": 32,
   "id": "2dc74f15-baae-4379-aff1-5d342a53a412",
   "metadata": {},
   "outputs": [],
   "source": [
    "#insert"
   ]
  },
  {
   "cell_type": "code",
   "execution_count": 34,
   "id": "041f3739-2c09-48a4-a349-179489fecdd1",
   "metadata": {},
   "outputs": [
    {
     "name": "stdout",
     "output_type": "stream",
     "text": [
      "10\n",
      "15\n",
      "30\n",
      "55\n"
     ]
    }
   ],
   "source": [
    "x.insert(2,30)\n",
    "for i in x:\n",
    "    print(i)"
   ]
  },
  {
   "cell_type": "code",
   "execution_count": null,
   "id": "98997405-e46e-40bd-83df-350ffce44db5",
   "metadata": {},
   "outputs": [],
   "source": []
  }
 ],
 "metadata": {
  "kernelspec": {
   "display_name": "Python 3 (ipykernel)",
   "language": "python",
   "name": "python3"
  },
  "language_info": {
   "codemirror_mode": {
    "name": "ipython",
    "version": 3
   },
   "file_extension": ".py",
   "mimetype": "text/x-python",
   "name": "python",
   "nbconvert_exporter": "python",
   "pygments_lexer": "ipython3",
   "version": "3.12.4"
  }
 },
 "nbformat": 4,
 "nbformat_minor": 5
}
