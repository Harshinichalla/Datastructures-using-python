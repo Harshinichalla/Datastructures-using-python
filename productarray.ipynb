{
 "cells": [
  {
   "cell_type": "code",
   "execution_count": 1,
   "id": "6f74e13d-2b21-49c9-9b4c-13912d097fac",
   "metadata": {},
   "outputs": [
    {
     "name": "stdout",
     "output_type": "stream",
     "text": [
      "120\n",
      "60\n",
      "40\n",
      "30\n",
      "24\n"
     ]
    }
   ],
   "source": [
    "arr=[1,2,3,4,5]\n",
    "for i in range(len(arr)):\n",
    "    prod_arr=1\n",
    "    for j in range(len(arr)):\n",
    "        if i!=j:\n",
    "            prod_arr*=arr[j]\n",
    "    print(prod_arr)   "
   ]
  },
  {
   "cell_type": "code",
   "execution_count": 3,
   "id": "d5877962-88f3-4c43-af84-f3d813c8829e",
   "metadata": {},
   "outputs": [
    {
     "name": "stdout",
     "output_type": "stream",
     "text": [
      "0 : 120\n",
      "1 : 60\n",
      "2 : 40\n",
      "3 : 30\n",
      "4 : 24\n"
     ]
    }
   ],
   "source": [
    "arr=[1,2,3,4,5]\n",
    "for i in range(len(arr)):\n",
    "    pro=1\n",
    "    for j in range(len(arr)):\n",
    "        if i!=j:\n",
    "            pro*=arr[j]\n",
    "    print(i,\":\",pro)"
   ]
  },
  {
   "cell_type": "code",
   "execution_count": null,
   "id": "62abf6f4-cd64-4535-8864-7016140ec6a0",
   "metadata": {},
   "outputs": [],
   "source": []
  }
 ],
 "metadata": {
  "kernelspec": {
   "display_name": "Python 3 (ipykernel)",
   "language": "python",
   "name": "python3"
  },
  "language_info": {
   "codemirror_mode": {
    "name": "ipython",
    "version": 3
   },
   "file_extension": ".py",
   "mimetype": "text/x-python",
   "name": "python",
   "nbconvert_exporter": "python",
   "pygments_lexer": "ipython3",
   "version": "3.12.4"
  }
 },
 "nbformat": 4,
 "nbformat_minor": 5
}
