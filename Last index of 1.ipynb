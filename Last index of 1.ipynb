{
 "cells": [
  {
   "cell_type": "code",
   "execution_count": 1,
   "id": "645838d5-0dc4-4fde-bc76-e3928de65c44",
   "metadata": {},
   "outputs": [],
   "source": [
    "#Last occurrence of one"
   ]
  },
  {
   "cell_type": "code",
   "execution_count": 9,
   "id": "cf10f575-ee34-4339-826c-97de74a15576",
   "metadata": {},
   "outputs": [
    {
     "name": "stdout",
     "output_type": "stream",
     "text": [
      "Last occurrence of 1: 8\n"
     ]
    }
   ],
   "source": [
    "import numpy as np\n",
    "x=np.array([0,0,1,1,0,1,1,0,1,0])\n",
    "def last_in(x):\n",
    "    index=-1\n",
    "    #n=len(x)\n",
    "    for i in range(len(x)):\n",
    "        if x[i]==1:\n",
    "            index=i\n",
    "    return index\n",
    "result=last_in(x)\n",
    "print(\"Last occurrence of 1:\",result)"
   ]
  },
  {
   "cell_type": "code",
   "execution_count": null,
   "id": "7ad5019a-6e58-4010-ade5-ca3645af6509",
   "metadata": {},
   "outputs": [],
   "source": []
  },
  {
   "cell_type": "code",
   "execution_count": 13,
   "id": "bab03391-866a-4418-8fac-4f515a681c8e",
   "metadata": {},
   "outputs": [
    {
     "data": {
      "text/plain": [
       "-1"
      ]
     },
     "execution_count": 13,
     "metadata": {},
     "output_type": "execute_result"
    }
   ],
   "source": [
    "x=np.array([0,0,0,0])\n",
    "def last_index(x):\n",
    "    index=-1\n",
    "    for i in range(len(x)):\n",
    "        if x[i]==1:\n",
    "            index=i\n",
    "    return index\n",
    "res=last_index(x)\n",
    "res"
   ]
  },
  {
   "cell_type": "code",
   "execution_count": 19,
   "id": "0eedd8f5-22c1-429f-ad75-bcc94a2c2752",
   "metadata": {},
   "outputs": [],
   "source": [
    "#MOVE ZERO TO AN END"
   ]
  },
  {
   "cell_type": "code",
   "execution_count": 21,
   "id": "eb0ee276-460d-4836-88eb-c96ef52a3877",
   "metadata": {},
   "outputs": [
    {
     "data": {
      "text/plain": [
       "[1, 1, 0, 0, 0, 0]"
      ]
     },
     "execution_count": 21,
     "metadata": {},
     "output_type": "execute_result"
    }
   ],
   "source": [
    "def move_zero(n):\n",
    "    non_zero=0\n",
    "    for i in range(len(n)):\n",
    "        if n[i]!=0:\n",
    "            n[non_zero]=n[i]\n",
    "            non_zero+=1\n",
    "    for i in range(non_zero,len(n)):\n",
    "        n[i]=0\n",
    "    return n\n",
    "number=[1,0,0,0,0,1]\n",
    "res=move_zero(number)\n",
    "res"
   ]
  },
  {
   "cell_type": "code",
   "execution_count": null,
   "id": "44eef05b-6bcd-41bd-91eb-b5054cd60dd9",
   "metadata": {},
   "outputs": [],
   "source": []
  }
 ],
 "metadata": {
  "kernelspec": {
   "display_name": "Python 3 (ipykernel)",
   "language": "python",
   "name": "python3"
  },
  "language_info": {
   "codemirror_mode": {
    "name": "ipython",
    "version": 3
   },
   "file_extension": ".py",
   "mimetype": "text/x-python",
   "name": "python",
   "nbconvert_exporter": "python",
   "pygments_lexer": "ipython3",
   "version": "3.12.4"
  }
 },
 "nbformat": 4,
 "nbformat_minor": 5
}
