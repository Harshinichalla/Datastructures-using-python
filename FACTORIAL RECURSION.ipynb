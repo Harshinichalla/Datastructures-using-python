{
 "cells": [
  {
   "cell_type": "code",
   "execution_count": null,
   "id": "7868f258-c54b-426a-8d2f-d4ec05f82c15",
   "metadata": {},
   "outputs": [],
   "source": [
    "#RECURSION"
   ]
  },
  {
   "cell_type": "code",
   "execution_count": 5,
   "id": "33b27b56-5773-45e7-a463-6083a4e8ac87",
   "metadata": {},
   "outputs": [
    {
     "data": {
      "text/plain": [
       "6"
      ]
     },
     "execution_count": 5,
     "metadata": {},
     "output_type": "execute_result"
    }
   ],
   "source": [
    "def factorial(n):\n",
    "    if n==1:\n",
    "        return 1\n",
    "    else:\n",
    "        return n*factorial(n-1)\n",
    "res=factorial(3)\n",
    "res"
   ]
  },
  {
   "cell_type": "code",
   "execution_count": null,
   "id": "80da4ba4-5346-4c36-9261-f4023cf55d16",
   "metadata": {},
   "outputs": [],
   "source": [
    "#ITERATION"
   ]
  },
  {
   "cell_type": "code",
   "execution_count": 7,
   "id": "6343cec3-ecdd-43cf-ad14-f14d28e57d88",
   "metadata": {},
   "outputs": [],
   "source": [
    "def factorail(n):\n",
    "    result=1\n",
    "    for i in range(1,n+1):\n",
    "        result*=i\n",
    "    return result"
   ]
  },
  {
   "cell_type": "code",
   "execution_count": 9,
   "id": "084613a8-861e-4171-973a-f01e9cd7887c",
   "metadata": {},
   "outputs": [
    {
     "data": {
      "text/plain": [
       "24"
      ]
     },
     "execution_count": 9,
     "metadata": {},
     "output_type": "execute_result"
    }
   ],
   "source": [
    "a=factorial(4)\n",
    "a"
   ]
  },
  {
   "cell_type": "code",
   "execution_count": null,
   "id": "0543fc2d-e472-4924-9b89-84d36648bffb",
   "metadata": {},
   "outputs": [],
   "source": [
    "with recursion and without recursion"
   ]
  },
  {
   "cell_type": "code",
   "execution_count": null,
   "id": "3cf572c9-8b6c-41e1-9477-fc3d2338e47f",
   "metadata": {},
   "outputs": [],
   "source": [
    "TOWER OF HANOI\n",
    "FIBONACCI SERIES"
   ]
  }
 ],
 "metadata": {
  "kernelspec": {
   "display_name": "Python 3 (ipykernel)",
   "language": "python",
   "name": "python3"
  },
  "language_info": {
   "codemirror_mode": {
    "name": "ipython",
    "version": 3
   },
   "file_extension": ".py",
   "mimetype": "text/x-python",
   "name": "python",
   "nbconvert_exporter": "python",
   "pygments_lexer": "ipython3",
   "version": "3.12.4"
  }
 },
 "nbformat": 4,
 "nbformat_minor": 5
}
