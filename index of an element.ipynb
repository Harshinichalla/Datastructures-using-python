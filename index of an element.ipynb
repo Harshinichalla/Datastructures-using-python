{
 "cells": [
  {
   "cell_type": "code",
   "execution_count": 1,
   "id": "d334a2b6-a44f-471f-a6a1-ee980bfb6c31",
   "metadata": {},
   "outputs": [],
   "source": [
    "import numpy as np"
   ]
  },
  {
   "cell_type": "code",
   "execution_count": 26,
   "id": "3334fbbe-b884-4ee7-bc24-5382c9403b67",
   "metadata": {},
   "outputs": [
    {
     "name": "stdin",
     "output_type": "stream",
     "text": [
      " 50\n"
     ]
    },
    {
     "name": "stdout",
     "output_type": "stream",
     "text": [
      "4\n"
     ]
    }
   ],
   "source": [
    "x=np.array([10,20,30,40,50])\n",
    "def index_arr(x,s_ele):\n",
    "    try:\n",
    "        n=len(x)\n",
    "        for i in range(n):\n",
    "            if x[i]==s_ele:\n",
    "                return i\n",
    "        raise ValueError(\"Element not found\")\n",
    "    except ValueError:\n",
    "        return -1\n",
    "s_ele=int(input())\n",
    "result=index_arr(x,s_ele)\n",
    "print(result)"
   ]
  },
  {
   "cell_type": "code",
   "execution_count": null,
   "id": "4e4ebaea-773d-418b-825a-3f4e35600d9d",
   "metadata": {},
   "outputs": [],
   "source": []
  },
  {
   "cell_type": "code",
   "execution_count": null,
   "id": "bb429476-09f3-4ed0-9f41-62cf25814f3a",
   "metadata": {},
   "outputs": [],
   "source": []
  }
 ],
 "metadata": {
  "kernelspec": {
   "display_name": "Python 3 (ipykernel)",
   "language": "python",
   "name": "python3"
  },
  "language_info": {
   "codemirror_mode": {
    "name": "ipython",
    "version": 3
   },
   "file_extension": ".py",
   "mimetype": "text/x-python",
   "name": "python",
   "nbconvert_exporter": "python",
   "pygments_lexer": "ipython3",
   "version": "3.12.4"
  }
 },
 "nbformat": 4,
 "nbformat_minor": 5
}
