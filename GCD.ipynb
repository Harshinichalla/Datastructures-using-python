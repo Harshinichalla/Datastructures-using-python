{
 "cells": [
  {
   "cell_type": "code",
   "execution_count": null,
   "id": "bef293c8-80ee-484a-907a-8c7641ddda7b",
   "metadata": {},
   "outputs": [],
   "source": [
    "#using many lists"
   ]
  },
  {
   "cell_type": "code",
   "execution_count": 3,
   "id": "9d93ae90-f407-4ebf-96fc-f74fffdd9917",
   "metadata": {},
   "outputs": [
    {
     "name": "stdin",
     "output_type": "stream",
     "text": [
      "enter a number: 50\n",
      "enter a number: 60\n"
     ]
    },
    {
     "name": "stdout",
     "output_type": "stream",
     "text": [
      "GCD: 10\n"
     ]
    }
   ],
   "source": [
    "def gcd(m,n):\n",
    "    fm=[]\n",
    "    for i in range(1,m+1):\n",
    "        if (m%i)==0:\n",
    "            fm.append(i)\n",
    "    fn=[]\n",
    "    for j in range(1,n+1):\n",
    "        if (n%j)==0:\n",
    "            fn .append(j)\n",
    "    cf=[]\n",
    "    for k in fm:\n",
    "        if k in fn:\n",
    "            cf.append(k)\n",
    "    return cf[-1]\n",
    "m=int(input(\"enter a number:\"))\n",
    "n=int(input(\"enter a number:\"))\n",
    "print(\"GCD:\",gcd(m,n))"
   ]
  },
  {
   "cell_type": "code",
   "execution_count": null,
   "id": "e30a64f7-2c5c-44dd-9b0b-c7163eab1a71",
   "metadata": {},
   "outputs": [],
   "source": [
    "#using single list"
   ]
  },
  {
   "cell_type": "code",
   "execution_count": 15,
   "id": "90b911d6-ae09-4e37-9b9a-87fb0bff0ff1",
   "metadata": {},
   "outputs": [
    {
     "name": "stdout",
     "output_type": "stream",
     "text": [
      "1\n"
     ]
    }
   ],
   "source": [
    "def gcd(m,n):\n",
    "    cf=[]\n",
    "    for i in range(1,min(m,n)+1):\n",
    "        if (m%i)==0 and (n%i)==0:\n",
    "            cf.append(i)\n",
    "    return (cf[-1])\n",
    "print(gcd(18,25))"
   ]
  },
  {
   "cell_type": "code",
   "execution_count": null,
   "id": "1e704b89-4fee-4af0-b628-3a0bdae81514",
   "metadata": {},
   "outputs": [],
   "source": [
    "#without using lists"
   ]
  },
  {
   "cell_type": "code",
   "execution_count": 21,
   "id": "aee2ed40-3037-44ed-875d-f45fb0bc7cc9",
   "metadata": {},
   "outputs": [
    {
     "name": "stdout",
     "output_type": "stream",
     "text": [
      "6\n"
     ]
    }
   ],
   "source": [
    "def gcd(m,n):\n",
    "    for i in range(1,min(m,n)+1):\n",
    "        if (m%i)==0 and (n%i)==0:\n",
    "            mrcf=i\n",
    "    return(mrcf)\n",
    "print(gcd(12,18))"
   ]
  },
  {
   "cell_type": "code",
   "execution_count": null,
   "id": "f9608117-c747-46ef-8f62-49e16539fc06",
   "metadata": {},
   "outputs": [],
   "source": [
    "#scan backwards"
   ]
  },
  {
   "cell_type": "code",
   "execution_count": 33,
   "id": "17114dda-321c-4727-bebc-518949e90f24",
   "metadata": {},
   "outputs": [
    {
     "name": "stdout",
     "output_type": "stream",
     "text": [
      "6\n"
     ]
    }
   ],
   "source": [
    "def gcd(m,n):\n",
    "    for i in range(1,min(m,n)):\n",
    "        if (m%i)==0 and (n%i)==0:\n",
    "            mrcf=i\n",
    "    return(mrcf)\n",
    "print(gcd(12,18))"
   ]
  },
  {
   "cell_type": "code",
   "execution_count": null,
   "id": "8251d158-c57d-442b-bc04-b989dacd859e",
   "metadata": {},
   "outputs": [],
   "source": [
    "#using while loop"
   ]
  },
  {
   "cell_type": "code",
   "execution_count": 35,
   "id": "d23687dc-8979-44bf-a30d-b411f31b7a31",
   "metadata": {},
   "outputs": [
    {
     "name": "stdout",
     "output_type": "stream",
     "text": [
      "6\n"
     ]
    }
   ],
   "source": [
    "def gcd(m,n):\n",
    "    i=min(m,n)\n",
    "    while i>0:\n",
    "        if (m%i)==0 and (n%i)==0:\n",
    "            return i\n",
    "        else:\n",
    "            i-=1\n",
    "print(gcd(12,18))"
   ]
  },
  {
   "cell_type": "code",
   "execution_count": null,
   "id": "d0f14f19-f08c-44dc-a71a-2fe0f4fa88e0",
   "metadata": {},
   "outputs": [],
   "source": [
    "#USING RECURSIVE FUNCTION"
   ]
  },
  {
   "cell_type": "code",
   "execution_count": 22,
   "id": "0fedb383-0d3f-488c-bee2-04a90d68db12",
   "metadata": {},
   "outputs": [
    {
     "name": "stdout",
     "output_type": "stream",
     "text": [
      "3\n"
     ]
    }
   ],
   "source": [
    "def gcd(m,n):\n",
    "    if n==0:\n",
    "        return m\n",
    "    return gcd(n,m%n)\n",
    "print(gcd(12,33))"
   ]
  },
  {
   "cell_type": "code",
   "execution_count": 28,
   "id": "a5ec2195-1809-4af0-9cc6-67f61546bfee",
   "metadata": {},
   "outputs": [
    {
     "name": "stdout",
     "output_type": "stream",
     "text": [
      "3\n"
     ]
    }
   ],
   "source": [
    "def gcd(m,n):\n",
    "    if n==0:\n",
    "        return m;\n",
    "    else:\n",
    "        return gcd(n, m % n);\n",
    "print(gcd(12,33))      "
   ]
  },
  {
   "cell_type": "code",
   "execution_count": null,
   "id": "5cceda28-fdc3-4a93-b08a-1b63401f53d7",
   "metadata": {},
   "outputs": [],
   "source": []
  },
  {
   "cell_type": "code",
   "execution_count": null,
   "id": "7ddad962-e598-4fdf-aa51-3783690dc481",
   "metadata": {},
   "outputs": [],
   "source": []
  },
  {
   "cell_type": "code",
   "execution_count": null,
   "id": "8bfe2a3a-0d71-4fb7-8c3e-e526d7dd087a",
   "metadata": {},
   "outputs": [],
   "source": []
  }
 ],
 "metadata": {
  "kernelspec": {
   "display_name": "Python 3 (ipykernel)",
   "language": "python",
   "name": "python3"
  },
  "language_info": {
   "codemirror_mode": {
    "name": "ipython",
    "version": 3
   },
   "file_extension": ".py",
   "mimetype": "text/x-python",
   "name": "python",
   "nbconvert_exporter": "python",
   "pygments_lexer": "ipython3",
   "version": "3.12.4"
  }
 },
 "nbformat": 4,
 "nbformat_minor": 5
}
