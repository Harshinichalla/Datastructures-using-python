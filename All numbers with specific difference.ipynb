{
 "cells": [
  {
   "cell_type": "code",
   "execution_count": 4,
   "id": "f6afa278-51ba-4671-aef9-d19f27872dcb",
   "metadata": {},
   "outputs": [],
   "source": [
    "#1"
   ]
  },
  {
   "cell_type": "code",
   "execution_count": 3,
   "id": "cdcf33cf-061d-4d79-9d09-76ab02906c91",
   "metadata": {},
   "outputs": [
    {
     "name": "stdout",
     "output_type": "stream",
     "text": [
      "Result: 4\n"
     ]
    }
   ],
   "source": [
    "n=13\n",
    "d=2\n",
    "low=1\n",
    "high=13\n",
    "while low<=high:\n",
    "    mid=(low+high)//2\n",
    "    sum_digits=sum(int(digit)for digit in str(mid))\n",
    "    if(mid-sum_digits)<=2:\n",
    "        low=mid+1\n",
    "    else:\n",
    "        high=mid-1\n",
    "result=n-high\n",
    "print(\"Result:\",result)"
   ]
  },
  {
   "cell_type": "code",
   "execution_count": null,
   "id": "245482ca-6e91-4d7a-9cdc-4b5f07cb53a0",
   "metadata": {},
   "outputs": [],
   "source": [
    "#2"
   ]
  },
  {
   "cell_type": "code",
   "execution_count": 6,
   "id": "bbc5224f-144c-49c9-8fa4-1a5dabe37ae7",
   "metadata": {},
   "outputs": [
    {
     "name": "stdout",
     "output_type": "stream",
     "text": [
      "4\n"
     ]
    }
   ],
   "source": [
    "n=13\n",
    "d=2\n",
    "low=1\n",
    "high=13\n",
    "while low<=high:\n",
    "    mid=(low+high)//2\n",
    "    sum_digits=sum(int(digit) for digit in str(mid))\n",
    "    diff=mid - sum_digits\n",
    "    if abs(diff)<=2:\n",
    "        low=mid+1\n",
    "    else:\n",
    "        high=mid-1\n",
    "result=n-high\n",
    "print(result)"
   ]
  },
  {
   "cell_type": "code",
   "execution_count": null,
   "id": "c9410e4f-f2f4-41ba-b1ee-80f4bd4a8ff8",
   "metadata": {},
   "outputs": [],
   "source": []
  }
 ],
 "metadata": {
  "kernelspec": {
   "display_name": "Python 3 (ipykernel)",
   "language": "python",
   "name": "python3"
  },
  "language_info": {
   "codemirror_mode": {
    "name": "ipython",
    "version": 3
   },
   "file_extension": ".py",
   "mimetype": "text/x-python",
   "name": "python",
   "nbconvert_exporter": "python",
   "pygments_lexer": "ipython3",
   "version": "3.12.4"
  }
 },
 "nbformat": 4,
 "nbformat_minor": 5
}
