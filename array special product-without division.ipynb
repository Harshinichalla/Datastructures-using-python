{
 "cells": [
  {
   "cell_type": "code",
   "execution_count": 1,
   "id": "d2a8abcf-2b8a-4d2b-bed5-3fcc51c42338",
   "metadata": {},
   "outputs": [],
   "source": [
    "import numpy as np"
   ]
  },
  {
   "cell_type": "code",
   "execution_count": 11,
   "id": "aa500e0a-4976-4d9f-b1f5-cad2bdef01e1",
   "metadata": {},
   "outputs": [
    {
     "name": "stdout",
     "output_type": "stream",
     "text": [
      "Original array: [1 2 3 4 5]\n",
      "Product array: [120, 60, 40, 30, 24]\n"
     ]
    }
   ],
   "source": [
    "x=np.array([1,2,3,4,5])\n",
    "def sp_without_division(x):\n",
    "    n=len(x)\n",
    "    res=[1]*n\n",
    "    for i in range(n):\n",
    "        for j in range(n):\n",
    "            if i!=j:\n",
    "                res[i]*=x[j]\n",
    "    return res\n",
    "print(\"Original array:\",x)\n",
    "result=sp_without_division(x)\n",
    "print(\"Product array:\",result)"
   ]
  },
  {
   "cell_type": "code",
   "execution_count": 15,
   "id": "6e34334d-45ac-4e50-b829-d27ca15529c2",
   "metadata": {},
   "outputs": [],
   "source": [
    "import numpy as np\n",
    "import math"
   ]
  },
  {
   "cell_type": "code",
   "execution_count": 29,
   "id": "6d793508-535f-4eb4-b641-f2117ad4b729",
   "metadata": {},
   "outputs": [
    {
     "name": "stdout",
     "output_type": "stream",
     "text": [
      "Original array: [1 2 3 4 5]\n",
      "Product array: [array([120,  60,  40,  30,  24], dtype=int32)]\n"
     ]
    }
   ],
   "source": [
    "x=np.array([1,2,3,4,5])\n",
    "def sp_with_division(x):\n",
    "    product=math.prod(x)\n",
    "    new_arr=[]\n",
    "    for i in range(len(x)):\n",
    "        res=product//x\n",
    "        new_arr.append(res)\n",
    "        return new_arr\n",
    "print(\"Original array:\",x)\n",
    "result=sp_with_division(x)\n",
    "print(\"Product array:\",result)"
   ]
  },
  {
   "cell_type": "code",
   "execution_count": null,
   "id": "8274ced2-e7ef-4190-bace-010f3113e33f",
   "metadata": {},
   "outputs": [],
   "source": []
  }
 ],
 "metadata": {
  "kernelspec": {
   "display_name": "Python 3 (ipykernel)",
   "language": "python",
   "name": "python3"
  },
  "language_info": {
   "codemirror_mode": {
    "name": "ipython",
    "version": 3
   },
   "file_extension": ".py",
   "mimetype": "text/x-python",
   "name": "python",
   "nbconvert_exporter": "python",
   "pygments_lexer": "ipython3",
   "version": "3.12.4"
  }
 },
 "nbformat": 4,
 "nbformat_minor": 5
}
