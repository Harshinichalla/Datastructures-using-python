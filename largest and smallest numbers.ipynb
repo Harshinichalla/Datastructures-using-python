{
 "cells": [
  {
   "cell_type": "code",
   "execution_count": 3,
   "id": "c4ec8020-103d-4535-9503-65007fecd58e",
   "metadata": {},
   "outputs": [
    {
     "name": "stdout",
     "output_type": "stream",
     "text": [
      "(10, 50)\n"
     ]
    }
   ],
   "source": [
    "import numpy as np\n",
    "x=np.array([10,20,30,40,50])\n",
    "def one(x):\n",
    "    min_ele=np.min(x)\n",
    "    max_ele=np.max(x)\n",
    "    return min_ele,max_ele\n",
    "result=one(x)\n",
    "print(result)"
   ]
  },
  {
   "cell_type": "code",
   "execution_count": null,
   "id": "72966f8a-0585-4f54-8334-fdad4e287a1b",
   "metadata": {},
   "outputs": [],
   "source": []
  }
 ],
 "metadata": {
  "kernelspec": {
   "display_name": "Python 3 (ipykernel)",
   "language": "python",
   "name": "python3"
  },
  "language_info": {
   "codemirror_mode": {
    "name": "ipython",
    "version": 3
   },
   "file_extension": ".py",
   "mimetype": "text/x-python",
   "name": "python",
   "nbconvert_exporter": "python",
   "pygments_lexer": "ipython3",
   "version": "3.12.4"
  }
 },
 "nbformat": 4,
 "nbformat_minor": 5
}
