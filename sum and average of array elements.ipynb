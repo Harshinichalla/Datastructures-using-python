{
 "cells": [
  {
   "cell_type": "code",
   "execution_count": 11,
   "id": "854232f5-d44f-41b2-ba37-28b2e2d5efd9",
   "metadata": {},
   "outputs": [],
   "source": [
    "#sum and average of array elements"
   ]
  },
  {
   "cell_type": "code",
   "execution_count": 13,
   "id": "8edfdfc3-09bf-4ff3-94a5-9290bdfc9b6f",
   "metadata": {},
   "outputs": [],
   "source": [
    "import numpy as np"
   ]
  },
  {
   "cell_type": "code",
   "execution_count": 15,
   "id": "eaefd98a-30d5-4203-aaf5-9de3219db3bd",
   "metadata": {},
   "outputs": [
    {
     "name": "stdout",
     "output_type": "stream",
     "text": [
      "(15, 3.0)\n"
     ]
    }
   ],
   "source": [
    "x=np.array([1,2,3,4,5])\n",
    "def two(x):\n",
    "    length=len(x)\n",
    "    add_all=np.sum(x)\n",
    "    average=add_all/length\n",
    "    return add_all,average\n",
    "result=two(x)\n",
    "print(result)"
   ]
  },
  {
   "cell_type": "code",
   "execution_count": null,
   "id": "5718a2f5-c5be-4cc4-afdc-4051dbe71e69",
   "metadata": {},
   "outputs": [],
   "source": []
  }
 ],
 "metadata": {
  "kernelspec": {
   "display_name": "Python 3 (ipykernel)",
   "language": "python",
   "name": "python3"
  },
  "language_info": {
   "codemirror_mode": {
    "name": "ipython",
    "version": 3
   },
   "file_extension": ".py",
   "mimetype": "text/x-python",
   "name": "python",
   "nbconvert_exporter": "python",
   "pygments_lexer": "ipython3",
   "version": "3.12.4"
  }
 },
 "nbformat": 4,
 "nbformat_minor": 5
}
