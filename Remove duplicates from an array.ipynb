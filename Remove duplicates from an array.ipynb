{
 "cells": [
  {
   "cell_type": "code",
   "execution_count": 1,
   "id": "302061f0-07c5-4ba0-b74c-2660d46f77e3",
   "metadata": {},
   "outputs": [],
   "source": [
    "import numpy as np"
   ]
  },
  {
   "cell_type": "code",
   "execution_count": 2,
   "id": "6c46573d-719f-4500-996d-6b820ff1e715",
   "metadata": {},
   "outputs": [],
   "source": [
    "#use looping and membership operator"
   ]
  },
  {
   "cell_type": "code",
   "execution_count": 9,
   "id": "db28ac1e-ce8c-4178-a2a9-526c27b29651",
   "metadata": {},
   "outputs": [
    {
     "name": "stdout",
     "output_type": "stream",
     "text": [
      "[30]\n"
     ]
    }
   ],
   "source": [
    "x=np.array([5,10,15,20,25,30])\n",
    "def rem_dup(x):\n",
    "    new_arr=[]\n",
    "    for i in x:\n",
    "        if i not in new_arr:\n",
    "            new_arr.append(x[i])\n",
    "            return new_arr\n",
    "result=rem_dup(x)\n",
    "print(result)"
   ]
  },
  {
   "cell_type": "code",
   "execution_count": null,
   "id": "dcd67673-1f58-41f8-9bbd-0eeb86bd9c65",
   "metadata": {},
   "outputs": [],
   "source": []
  },
  {
   "cell_type": "code",
   "execution_count": null,
   "id": "dbdeae57-fb11-458a-81ed-ec1e0d9bf60f",
   "metadata": {},
   "outputs": [],
   "source": []
  },
  {
   "cell_type": "code",
   "execution_count": null,
   "id": "5dd2cf53-af59-47eb-b24d-4f2175c3f2d0",
   "metadata": {},
   "outputs": [],
   "source": []
  }
 ],
 "metadata": {
  "kernelspec": {
   "display_name": "Python 3 (ipykernel)",
   "language": "python",
   "name": "python3"
  },
  "language_info": {
   "codemirror_mode": {
    "name": "ipython",
    "version": 3
   },
   "file_extension": ".py",
   "mimetype": "text/x-python",
   "name": "python",
   "nbconvert_exporter": "python",
   "pygments_lexer": "ipython3",
   "version": "3.12.4"
  }
 },
 "nbformat": 4,
 "nbformat_minor": 5
}
