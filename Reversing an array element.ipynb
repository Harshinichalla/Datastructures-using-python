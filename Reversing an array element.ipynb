{
 "cells": [
  {
   "cell_type": "code",
   "execution_count": null,
   "id": "6fc2998a-1032-4db0-b0ae-f55eda9b0531",
   "metadata": {},
   "outputs": [],
   "source": [
    "#REVERSING AN ARRAY ELEMENT"
   ]
  },
  {
   "cell_type": "code",
   "execution_count": 1,
   "id": "c0246777-f9f4-47d9-b36e-db5a08eff15e",
   "metadata": {},
   "outputs": [],
   "source": [
    "import numpy as np"
   ]
  },
  {
   "cell_type": "code",
   "execution_count": null,
   "id": "74d14baa-fe00-4df3-9f9a-435af2ec55b8",
   "metadata": {},
   "outputs": [],
   "source": [
    "#slicing"
   ]
  },
  {
   "cell_type": "code",
   "execution_count": 5,
   "id": "19f2fcc2-c0e6-4215-8b98-312f6f97a1b5",
   "metadata": {},
   "outputs": [
    {
     "name": "stdout",
     "output_type": "stream",
     "text": [
      "[70 60 50 40 30 20 10]\n"
     ]
    }
   ],
   "source": [
    "x=np.array([10,20,30,40,50,60,70])\n",
    "print(x[::-1])"
   ]
  },
  {
   "cell_type": "code",
   "execution_count": 7,
   "id": "cda2b5c5-3edd-42f8-b140-fc46c1c0e603",
   "metadata": {},
   "outputs": [],
   "source": [
    "#use looping"
   ]
  },
  {
   "cell_type": "code",
   "execution_count": 23,
   "id": "30228cf1-115a-4ba6-9756-1fd3b6425b44",
   "metadata": {},
   "outputs": [
    {
     "name": "stdout",
     "output_type": "stream",
     "text": [
      "7\n",
      "6\n",
      "5\n",
      "4\n",
      "3\n",
      "2\n",
      "1\n"
     ]
    }
   ],
   "source": [
    "import numpy as np\n",
    "x=np.array([1,2,3,4,5,6,7])\n",
    "n=len(x)\n",
    "for i in range(n-1,-1,-1):\n",
    "    print(x[i])"
   ]
  },
  {
   "cell_type": "code",
   "execution_count": null,
   "id": "9935df09-bcb3-4801-b8db-ae88d4d6174e",
   "metadata": {},
   "outputs": [],
   "source": []
  },
  {
   "cell_type": "code",
   "execution_count": null,
   "id": "6de29621-4eba-4868-a15a-4a3c81fcc723",
   "metadata": {},
   "outputs": [],
   "source": []
  },
  {
   "cell_type": "code",
   "execution_count": null,
   "id": "5d99a69c-6f02-4016-a82a-b16e5621d061",
   "metadata": {},
   "outputs": [],
   "source": []
  }
 ],
 "metadata": {
  "kernelspec": {
   "display_name": "Python 3 (ipykernel)",
   "language": "python",
   "name": "python3"
  },
  "language_info": {
   "codemirror_mode": {
    "name": "ipython",
    "version": 3
   },
   "file_extension": ".py",
   "mimetype": "text/x-python",
   "name": "python",
   "nbconvert_exporter": "python",
   "pygments_lexer": "ipython3",
   "version": "3.12.4"
  }
 },
 "nbformat": 4,
 "nbformat_minor": 5
}
