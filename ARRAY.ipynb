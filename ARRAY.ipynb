{
 "cells": [
  {
   "cell_type": "code",
   "execution_count": 5,
   "id": "b71f2829-1a51-4a68-bca1-d8a6a89cb07d",
   "metadata": {},
   "outputs": [],
   "source": [
    "#CREATING AN ARRAY"
   ]
  },
  {
   "cell_type": "code",
   "execution_count": 7,
   "id": "eb110550-702a-456a-b508-8d99c8101afe",
   "metadata": {},
   "outputs": [
    {
     "name": "stdout",
     "output_type": "stream",
     "text": [
      "10\n",
      "20\n",
      "30\n",
      "40\n",
      "50\n"
     ]
    }
   ],
   "source": [
    "from array import *\n",
    "array1=array('i',[10,20,30,40,50])\n",
    "for x in array1:\n",
    "    print(x)"
   ]
  },
  {
   "cell_type": "code",
   "execution_count": 9,
   "id": "4e73b8d4-cfb9-4920-be0c-44d176db0fe7",
   "metadata": {},
   "outputs": [],
   "source": [
    "#ACCESSING ARRAY ELEMENT-------->access each element of an element using the index of the element"
   ]
  },
  {
   "cell_type": "code",
   "execution_count": 11,
   "id": "924fc510-d533-4618-970e-2dfbb6bdbf40",
   "metadata": {},
   "outputs": [
    {
     "name": "stdout",
     "output_type": "stream",
     "text": [
      "10\n",
      "30\n"
     ]
    }
   ],
   "source": [
    "from array import *\n",
    "array1=array('i',[10,20,30,40,50])\n",
    "print(array1[0])\n",
    "print(array1[2])"
   ]
  },
  {
   "cell_type": "code",
   "execution_count": 13,
   "id": "26bc3df5-d643-4c40-a27b-d9366bf6e1f8",
   "metadata": {},
   "outputs": [],
   "source": [
    "#INSERTION OPERATION-------->used to insert one or more data elements into an array"
   ]
  },
  {
   "cell_type": "code",
   "execution_count": 15,
   "id": "d0c41463-2fd8-4eed-9e7e-b70a699689bf",
   "metadata": {},
   "outputs": [
    {
     "name": "stdout",
     "output_type": "stream",
     "text": [
      "10\n",
      "60\n",
      "20\n",
      "30\n",
      "40\n",
      "50\n"
     ]
    }
   ],
   "source": [
    "array1=array('i',[10,20,30,40,50])\n",
    "array1.insert(1,60)\n",
    "for x in array1:\n",
    "    print(x)"
   ]
  },
  {
   "cell_type": "code",
   "execution_count": 17,
   "id": "692ba82b-e517-492a-b63c-b1646c5c9c39",
   "metadata": {},
   "outputs": [],
   "source": [
    "#DELETION OPERATION-------->removing an existing ele,ent from an array and re-organizing all elements of an array"
   ]
  },
  {
   "cell_type": "code",
   "execution_count": 19,
   "id": "c6a3f1da-0258-4ec7-ac28-abc833524ae2",
   "metadata": {},
   "outputs": [
    {
     "name": "stdout",
     "output_type": "stream",
     "text": [
      "10\n",
      "20\n",
      "30\n",
      "50\n"
     ]
    }
   ],
   "source": [
    "array1=array('i',[10,20,30,40,50])\n",
    "array1.remove(40)\n",
    "for x in array1:\n",
    "    print(x)"
   ]
  },
  {
   "cell_type": "code",
   "execution_count": 21,
   "id": "3bf1acb7-2164-48ec-89e4-db828edeba6c",
   "metadata": {},
   "outputs": [],
   "source": [
    "#SEARCH OPERATION------------>search for an array element based on it's value or it's index\n",
    "#search a data element using the python in-built index() method"
   ]
  },
  {
   "cell_type": "code",
   "execution_count": 23,
   "id": "9c6ec896-0f6f-42aa-9514-dab2ac0855a3",
   "metadata": {},
   "outputs": [
    {
     "name": "stdout",
     "output_type": "stream",
     "text": [
      "3\n"
     ]
    }
   ],
   "source": [
    "array1=array('i',[10,20,30,40,50])\n",
    "print(array1.index(40))"
   ]
  },
  {
   "cell_type": "code",
   "execution_count": 25,
   "id": "22c584ea-8ff3-47d0-b04f-74d8ee5d86d0",
   "metadata": {},
   "outputs": [],
   "source": [
    "#UPDATE OPERATION-------->refers to updating an existing element from the array to the given index"
   ]
  },
  {
   "cell_type": "code",
   "execution_count": 14,
   "id": "aedcaebf-5af2-4291-bed5-91087347fc78",
   "metadata": {},
   "outputs": [
    {
     "name": "stdout",
     "output_type": "stream",
     "text": [
      "10\n",
      "20\n",
      "80\n",
      "40\n",
      "50\n"
     ]
    }
   ],
   "source": [
    "array1=array('i',[10,20,30,40,50])\n",
    "array1[2]=80\n",
    "for x in array1:\n",
    "    print(x)"
   ]
  },
  {
   "cell_type": "code",
   "execution_count": 28,
   "id": "91634d59-f26a-4583-a038-74bfb10c4f16",
   "metadata": {},
   "outputs": [
    {
     "name": "stdout",
     "output_type": "stream",
     "text": [
      "4\n"
     ]
    }
   ],
   "source": [
    "low=1\n",
    "high=13\n",
    "n=17\n",
    "while low<high:\n",
    "    mid=(high+low)//2\n",
    "    sum_of_digits=mid\n",
    "    diff=mid-sum_of_digits\n",
    "    if diff<=2:\n",
    "        low=mid+1\n",
    "    else:\n",
    "        high=mid-1\n",
    "else:\n",
    "    print(n-high)"
   ]
  },
  {
   "cell_type": "code",
   "execution_count": null,
   "id": "b13f34f2-6e4c-4233-b3df-bacc46859adf",
   "metadata": {},
   "outputs": [],
   "source": [
    "#LARGEST AND SMALLEST ELEMENTS IN AN ARRAY"
   ]
  },
  {
   "cell_type": "code",
   "execution_count": 48,
   "id": "fc14f566-02b0-4d20-9276-54fcce82096b",
   "metadata": {},
   "outputs": [
    {
     "name": "stdout",
     "output_type": "stream",
     "text": [
      "70\n",
      "10\n"
     ]
    }
   ],
   "source": [
    "from array import *\n",
    "array1=[10,20,30,40,50,60,70]\n",
    "maximum=max(array1)\n",
    "minimum=min(array1)\n",
    "print(maximum)\n",
    "print(minimum)"
   ]
  },
  {
   "cell_type": "code",
   "execution_count": 50,
   "id": "8497ce81-da31-46c9-8596-2bf68482a854",
   "metadata": {},
   "outputs": [],
   "source": [
    "#TO REMOVE DUPLICATES FROM AN ARRAY AND RETURN THE RESULT AS A NEW ARRAY"
   ]
  },
  {
   "cell_type": "code",
   "execution_count": 56,
   "id": "8f4ae7cf-a4db-4cee-9931-5d85cb815550",
   "metadata": {},
   "outputs": [
    {
     "name": "stdout",
     "output_type": "stream",
     "text": [
      "[10, 20, 30, 40, 50, 60, 70, 10, 10, 20, 40, 50]\n",
      "array('i', [70, 40, 10, 50, 20, 60, 30])\n"
     ]
    }
   ],
   "source": [
    "from array import *\n",
    "array1=[10,20,30,40,50,60,70,10,10,20,40,50]\n",
    "original=list(set(array1))\n",
    "new=array('i',original)\n",
    "print(array1)\n",
    "print(new)\n"
   ]
  },
  {
   "cell_type": "code",
   "execution_count": null,
   "id": "905715cb-e9dc-4f12-af90-033b17fcd99b",
   "metadata": {},
   "outputs": [],
   "source": [
    "#write a function that takes an array and an element as input and returns the index of the element in the array.if the element is not found it should return -1"
   ]
  },
  {
   "cell_type": "code",
   "execution_count": null,
   "id": "1d592015-9f13-458f-a7f8-ded24069c536",
   "metadata": {},
   "outputs": [],
   "source": [
    "#difference b/w array vs list in 8-9 points"
   ]
  },
  {
   "cell_type": "code",
   "execution_count": 1,
   "id": "c516ba16-6984-415c-9f1d-2eb478ecdf5a",
   "metadata": {},
   "outputs": [],
   "source": [
    "def find(arr,element):\n",
    "    try:\n",
    "        return arr.index(element)\n",
    "    except ValueError:\n",
    "        return -1"
   ]
  },
  {
   "cell_type": "code",
   "execution_count": 7,
   "id": "d36a3fee-b661-476a-bebf-8f3e845032bf",
   "metadata": {},
   "outputs": [
    {
     "name": "stdout",
     "output_type": "stream",
     "text": [
      "4\n"
     ]
    }
   ],
   "source": [
    "my_list=[10,20,30,40,50]\n",
    "print(find(my_list,50))"
   ]
  },
  {
   "cell_type": "code",
   "execution_count": 9,
   "id": "cfffd13b-aeb0-4d2f-8f9f-ff4d564e3364",
   "metadata": {},
   "outputs": [
    {
     "name": "stdout",
     "output_type": "stream",
     "text": [
      "-1\n"
     ]
    }
   ],
   "source": [
    "print(find(my_list,100))"
   ]
  },
  {
   "cell_type": "code",
   "execution_count": 58,
   "id": "2283804e-7f97-4429-ade0-68886aa6174a",
   "metadata": {},
   "outputs": [],
   "source": [
    "from array import *\n",
    "x=array('i',[10,20,30,40,50])\n",
    "type(x)\n",
    "def index_element(x,find):\n",
    "    try:\n",
    "        return x.index(find)\n",
    "    except ValueError:\n",
    "        return -1"
   ]
  },
  {
   "cell_type": "code",
   "execution_count": 62,
   "id": "48c249ba-5d6f-4651-b941-0a1d0b67c6ba",
   "metadata": {},
   "outputs": [
    {
     "name": "stdout",
     "output_type": "stream",
     "text": [
      "2\n",
      "-1\n"
     ]
    }
   ],
   "source": [
    "print(index_element(x,30))\n",
    "print(index_element(x,100))"
   ]
  },
  {
   "cell_type": "code",
   "execution_count": 38,
   "id": "b1d79919-7527-4bff-8411-375716bf4dc7",
   "metadata": {},
   "outputs": [],
   "source": [
    "#given two arrays,write a python function to find the intersection of both arrays using list and set concepts"
   ]
  },
  {
   "cell_type": "code",
   "execution_count": 42,
   "id": "2e0a1d65-7260-43d4-b0dc-42ab07f7577f",
   "metadata": {},
   "outputs": [],
   "source": [
    "#USING SET"
   ]
  },
  {
   "cell_type": "code",
   "execution_count": 44,
   "id": "c7f1c8d5-b313-4f7e-8235-7ded8c96f598",
   "metadata": {},
   "outputs": [
    {
     "data": {
      "text/plain": [
       "{3, 4, 5}"
      ]
     },
     "execution_count": 44,
     "metadata": {},
     "output_type": "execute_result"
    }
   ],
   "source": [
    "a={1,2,3,4,5}\n",
    "b={3,4,5,6,7}\n",
    "c=a&b\n",
    "c"
   ]
  },
  {
   "cell_type": "code",
   "execution_count": null,
   "id": "774d4ab7-ee27-4aa9-9304-a7f0f735cc12",
   "metadata": {},
   "outputs": [],
   "source": [
    "#USING LIST"
   ]
  },
  {
   "cell_type": "code",
   "execution_count": 52,
   "id": "f2c827e3-af23-4986-8e51-eaa808d04765",
   "metadata": {},
   "outputs": [
    {
     "name": "stdin",
     "output_type": "stream",
     "text": [
      " 1 2 3 4\n",
      " 3 4 5 6\n"
     ]
    },
    {
     "data": {
      "text/plain": [
       "[3, 4]"
      ]
     },
     "execution_count": 52,
     "metadata": {},
     "output_type": "execute_result"
    }
   ],
   "source": [
    "a = list(map(int, input().split()))\n",
    "b=list(map(int,input().split()))\n",
    "c=list(set(a).intersection(set(b)))\n",
    "c"
   ]
  },
  {
   "cell_type": "code",
   "execution_count": null,
   "id": "75abc415-6670-46a9-8a50-cf141771b14b",
   "metadata": {},
   "outputs": [],
   "source": [
    "#ROTATE AN ARRAY"
   ]
  },
  {
   "cell_type": "code",
   "execution_count": null,
   "id": "c5c65cef-863c-49ca-ac21-32815cfce61d",
   "metadata": {},
   "outputs": [],
   "source": [
    "#write a function to rotate an array to the right by k positions"
   ]
  },
  {
   "cell_type": "code",
   "execution_count": 64,
   "id": "60843a2d-f191-4167-b583-a36aa1602563",
   "metadata": {},
   "outputs": [],
   "source": [
    "def array(arr,k):\n",
    "    n=len(arr)\n",
    "    k=k%n\n",
    "    return arr[-k:]+arr[:-k]"
   ]
  },
  {
   "cell_type": "code",
   "execution_count": 66,
   "id": "4f704e42-11c3-4063-936c-38b1a736f0b1",
   "metadata": {},
   "outputs": [
    {
     "data": {
      "text/plain": [
       "[4, 5, 1, 2, 3]"
      ]
     },
     "execution_count": 66,
     "metadata": {},
     "output_type": "execute_result"
    }
   ],
   "source": [
    "arr=[1,2,3,4,5]\n",
    "k=2\n",
    "rotate=array(arr,k)\n",
    "rotate"
   ]
  },
  {
   "cell_type": "code",
   "execution_count": 70,
   "id": "a558d4ac-6565-49ca-8fa6-4886cbbc5d03",
   "metadata": {},
   "outputs": [
    {
     "ename": "SyntaxError",
     "evalue": "'return' outside function (3287807763.py, line 5)",
     "output_type": "error",
     "traceback": [
      "\u001b[1;36m  Cell \u001b[1;32mIn[70], line 5\u001b[1;36m\u001b[0m\n\u001b[1;33m    return \"no rotation\"\u001b[0m\n\u001b[1;37m    ^\u001b[0m\n\u001b[1;31mSyntaxError\u001b[0m\u001b[1;31m:\u001b[0m 'return' outside function\n"
     ]
    }
   ],
   "source": [
    "n=len(arr)\n",
    "if k>n:\n",
    "    k=k-n\n",
    "elif k==0:\n",
    "    return \"no rotation\"\n",
    "else:\n",
    "    return arr[-k:]+arr[:-k]"
   ]
  },
  {
   "cell_type": "code",
   "execution_count": 88,
   "id": "6929224c-9951-4f1f-95be-3bdc715eb5aa",
   "metadata": {},
   "outputs": [
    {
     "name": "stdout",
     "output_type": "stream",
     "text": [
      "No Rotation\n"
     ]
    }
   ],
   "source": [
    "def rotate(arr,k):\n",
    "    n = len(arr)\n",
    "    k =  k%n\n",
    "    if k ==0:\n",
    "        return \"No Rotation\"\n",
    "    else:\n",
    "        return arr[-k:] + arr[:-k]\n",
    "k = 4\n",
    "arr = [1,2,4,5]\n",
    "print(rotate(arr,k))"
   ]
  },
  {
   "cell_type": "code",
   "execution_count": null,
   "id": "274695f5-d75d-4849-8644-5c061a5e3296",
   "metadata": {},
   "outputs": [],
   "source": [
    "N=13\n",
    "D=2\n",
    "low=1\n",
    "high=N\n",
    "while low<=high:\n",
    "    mid=(high+low)//2\n",
    "    sum_d=0\n",
    "    for digit in str(mid):\n",
    "        sum_d+=int(digit)\n",
    "        if diff(mid-sum_d)<=2:\n",
    "            low=mid+1\n",
    "        else:\n",
    "            high=mid-1\n",
    "    print(N-high)"
   ]
  }
 ],
 "metadata": {
  "kernelspec": {
   "display_name": "Python 3 (ipykernel)",
   "language": "python",
   "name": "python3"
  },
  "language_info": {
   "codemirror_mode": {
    "name": "ipython",
    "version": 3
   },
   "file_extension": ".py",
   "mimetype": "text/x-python",
   "name": "python",
   "nbconvert_exporter": "python",
   "pygments_lexer": "ipython3",
   "version": "3.12.4"
  }
 },
 "nbformat": 4,
 "nbformat_minor": 5
}
