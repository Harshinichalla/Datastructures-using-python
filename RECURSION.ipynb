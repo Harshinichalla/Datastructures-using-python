{
 "cells": [
  {
   "cell_type": "code",
   "execution_count": 1,
   "id": "fa1b088d-ef02-42c4-8107-b9796cb0d04a",
   "metadata": {},
   "outputs": [],
   "source": [
    "#RECURSION"
   ]
  },
  {
   "cell_type": "code",
   "execution_count": 2,
   "id": "c52d587c-5104-4751-9b1b-ee497271f80f",
   "metadata": {},
   "outputs": [
    {
     "name": "stdin",
     "output_type": "stream",
     "text": [
      "Enter the number of terms:  5\n"
     ]
    },
    {
     "name": "stdout",
     "output_type": "stream",
     "text": [
      "[0, 1, 1, 2, 3]\n"
     ]
    }
   ],
   "source": [
    "def fibonacci_recursive(n):\n",
    "    if n <= 0:\n",
    "        return []\n",
    "    elif n == 1:\n",
    "        return [0]\n",
    "    elif n == 2:\n",
    "        return [0, 1]\n",
    "    else:\n",
    "        series = fibonacci_recursive(n - 1)\n",
    "        series.append(series[-1] + series[-2])\n",
    "        return series\n",
    "\n",
    "# Example usage\n",
    "n = int(input(\"Enter the number of terms: \"))\n",
    "print(fibonacci_recursive(n))"
   ]
  },
  {
   "cell_type": "code",
   "execution_count": 3,
   "id": "689ec76a-bdc3-456a-a060-de9188ed63bb",
   "metadata": {},
   "outputs": [],
   "source": [
    "#WITHOUT RECURSION"
   ]
  },
  {
   "cell_type": "code",
   "execution_count": 4,
   "id": "3e321c3d-0eaa-4b4a-b0d3-7a23ee4c451c",
   "metadata": {},
   "outputs": [
    {
     "name": "stdin",
     "output_type": "stream",
     "text": [
      "Enter the number of terms:  5\n"
     ]
    },
    {
     "name": "stdout",
     "output_type": "stream",
     "text": [
      "[0, 1, 1, 2, 3]\n"
     ]
    }
   ],
   "source": [
    "def fibonacci_iterative(n):\n",
    "    if n <= 0:\n",
    "        return []\n",
    "    series = [0, 1]\n",
    "    for i in range(2, n):\n",
    "        series.append(series[-1] + series[-2])\n",
    "    return series[:n]\n",
    "\n",
    "# Example usage\n",
    "n = int(input(\"Enter the number of terms: \"))\n",
    "print(fibonacci_iterative(n))\n"
   ]
  },
  {
   "cell_type": "code",
   "execution_count": null,
   "id": "31d8860c-8586-409b-af5c-100d0de6828c",
   "metadata": {},
   "outputs": [],
   "source": []
  }
 ],
 "metadata": {
  "kernelspec": {
   "display_name": "Python 3 (ipykernel)",
   "language": "python",
   "name": "python3"
  },
  "language_info": {
   "codemirror_mode": {
    "name": "ipython",
    "version": 3
   },
   "file_extension": ".py",
   "mimetype": "text/x-python",
   "name": "python",
   "nbconvert_exporter": "python",
   "pygments_lexer": "ipython3",
   "version": "3.12.4"
  }
 },
 "nbformat": 4,
 "nbformat_minor": 5
}
